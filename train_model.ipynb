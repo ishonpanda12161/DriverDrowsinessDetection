{
 "cells": [
  {
   "cell_type": "code",
   "execution_count": 1,
   "metadata": {},
   "outputs": [
    {
     "name": "stdout",
     "output_type": "stream",
     "text": [
      "Using device: cuda\n",
      "Dataset path: Driver Drowsiness Dataset (DDD)\n",
      "Model will be saved to: drowsiness_model.pth\n",
      "Loading dataset...\n",
      "Loading drowsy images from: Driver Drowsiness Dataset (DDD)\\Drowsy\n",
      "Loading non-drowsy images from: Driver Drowsiness Dataset (DDD)\\Non Drowsy\n",
      "Total images: 41793, Drowsy: 22348, Non-Drowsy: 19445\n",
      "Creating data loaders...\n",
      "Creating model...\n"
     ]
    },
    {
     "name": "stderr",
     "output_type": "stream",
     "text": [
      "c:\\ProgramData\\anaconda3\\envs\\gpuenv2\\lib\\site-packages\\torchvision\\models\\_utils.py:208: UserWarning: The parameter 'pretrained' is deprecated since 0.13 and may be removed in the future, please use 'weights' instead.\n",
      "  warnings.warn(\n",
      "c:\\ProgramData\\anaconda3\\envs\\gpuenv2\\lib\\site-packages\\torchvision\\models\\_utils.py:223: UserWarning: Arguments other than a weight enum or `None` for 'weights' are deprecated since 0.13 and may be removed in the future. The current behavior is equivalent to passing `weights=EfficientNet_B0_Weights.IMAGENET1K_V1`. You can also use `weights=EfficientNet_B0_Weights.DEFAULT` to get the most up-to-date weights.\n",
      "  warnings.warn(msg)\n",
      "Downloading: \"https://download.pytorch.org/models/efficientnet_b0_rwightman-7f5810bc.pth\" to C:\\Users\\Ishon Panda/.cache\\torch\\hub\\checkpoints\\efficientnet_b0_rwightman-7f5810bc.pth\n",
      "100%|██████████| 20.5M/20.5M [00:03<00:00, 6.06MB/s]\n",
      "c:\\ProgramData\\anaconda3\\envs\\gpuenv2\\lib\\site-packages\\torch\\optim\\lr_scheduler.py:60: UserWarning: The verbose parameter is deprecated. Please use get_last_lr() to access the learning rate.\n",
      "  warnings.warn(\n"
     ]
    },
    {
     "name": "stdout",
     "output_type": "stream",
     "text": [
      "Starting training...\n"
     ]
    },
    {
     "name": "stderr",
     "output_type": "stream",
     "text": [
      "Epoch 1/15 [Train]: 100%|██████████| 1045/1045 [09:26<00:00,  1.85it/s, acc=0.984, loss=0.0422]\n",
      "Epoch 1/15 [Val]: 100%|██████████| 262/262 [01:38<00:00,  2.67it/s, acc=1, loss=0.00214]    \n"
     ]
    },
    {
     "name": "stdout",
     "output_type": "stream",
     "text": [
      "Epoch 1/15 - Train Loss: 0.0422, Train Acc: 0.9843, Val Loss: 0.0021, Val Acc: 0.9995\n",
      "Model saved with validation accuracy: 0.9995\n"
     ]
    },
    {
     "name": "stderr",
     "output_type": "stream",
     "text": [
      "Epoch 2/15 [Train]: 100%|██████████| 1045/1045 [03:19<00:00,  5.23it/s, acc=0.996, loss=0.0125]\n",
      "Epoch 2/15 [Val]: 100%|██████████| 262/262 [00:33<00:00,  7.93it/s, acc=1, loss=0.000808]\n"
     ]
    },
    {
     "name": "stdout",
     "output_type": "stream",
     "text": [
      "Epoch 2/15 - Train Loss: 0.0125, Train Acc: 0.9955, Val Loss: 0.0008, Val Acc: 0.9996\n",
      "Model saved with validation accuracy: 0.9996\n"
     ]
    },
    {
     "name": "stderr",
     "output_type": "stream",
     "text": [
      "Epoch 3/15 [Train]: 100%|██████████| 1045/1045 [02:53<00:00,  6.01it/s, acc=0.998, loss=0.0076] \n",
      "Epoch 3/15 [Val]: 100%|██████████| 262/262 [00:33<00:00,  7.90it/s, acc=1, loss=0.00165] \n"
     ]
    },
    {
     "name": "stdout",
     "output_type": "stream",
     "text": [
      "Epoch 3/15 - Train Loss: 0.0076, Train Acc: 0.9977, Val Loss: 0.0017, Val Acc: 0.9995\n"
     ]
    },
    {
     "name": "stderr",
     "output_type": "stream",
     "text": [
      "Epoch 4/15 [Train]: 100%|██████████| 1045/1045 [02:55<00:00,  5.97it/s, acc=0.997, loss=0.00703]\n",
      "Epoch 4/15 [Val]: 100%|██████████| 262/262 [00:33<00:00,  7.86it/s, acc=1, loss=0.00138]    \n"
     ]
    },
    {
     "name": "stdout",
     "output_type": "stream",
     "text": [
      "Epoch 4/15 - Train Loss: 0.0070, Train Acc: 0.9975, Val Loss: 0.0014, Val Acc: 0.9998\n",
      "Model saved with validation accuracy: 0.9998\n"
     ]
    },
    {
     "name": "stderr",
     "output_type": "stream",
     "text": [
      "Epoch 5/15 [Train]: 100%|██████████| 1045/1045 [02:55<00:00,  5.96it/s, acc=0.997, loss=0.00839]\n",
      "Epoch 5/15 [Val]: 100%|██████████| 262/262 [00:33<00:00,  7.81it/s, acc=1, loss=0.000935]    \n"
     ]
    },
    {
     "name": "stdout",
     "output_type": "stream",
     "text": [
      "Epoch 5/15 - Train Loss: 0.0084, Train Acc: 0.9974, Val Loss: 0.0009, Val Acc: 0.9995\n"
     ]
    },
    {
     "name": "stderr",
     "output_type": "stream",
     "text": [
      "Epoch 6/15 [Train]: 100%|██████████| 1045/1045 [03:59<00:00,  4.36it/s, acc=0.998, loss=0.00637]\n",
      "Epoch 6/15 [Val]: 100%|██████████| 262/262 [00:33<00:00,  7.84it/s, acc=1, loss=0.000152]\n"
     ]
    },
    {
     "name": "stdout",
     "output_type": "stream",
     "text": [
      "Epoch 6/15 - Train Loss: 0.0064, Train Acc: 0.9981, Val Loss: 0.0002, Val Acc: 1.0000\n",
      "Model saved with validation accuracy: 1.0000\n"
     ]
    },
    {
     "name": "stderr",
     "output_type": "stream",
     "text": [
      "Epoch 7/15 [Train]: 100%|██████████| 1045/1045 [04:27<00:00,  3.91it/s, acc=0.998, loss=0.00578]\n",
      "Epoch 7/15 [Val]: 100%|██████████| 262/262 [00:33<00:00,  7.92it/s, acc=1, loss=0.000254]\n"
     ]
    },
    {
     "name": "stdout",
     "output_type": "stream",
     "text": [
      "Epoch 7/15 - Train Loss: 0.0058, Train Acc: 0.9980, Val Loss: 0.0003, Val Acc: 0.9999\n"
     ]
    },
    {
     "name": "stderr",
     "output_type": "stream",
     "text": [
      "Epoch 8/15 [Train]: 100%|██████████| 1045/1045 [02:53<00:00,  6.04it/s, acc=0.999, loss=0.00412]\n",
      "Epoch 8/15 [Val]: 100%|██████████| 262/262 [00:33<00:00,  7.75it/s, acc=1, loss=0.000338]\n"
     ]
    },
    {
     "name": "stdout",
     "output_type": "stream",
     "text": [
      "Epoch 8/15 - Train Loss: 0.0041, Train Acc: 0.9986, Val Loss: 0.0003, Val Acc: 0.9999\n"
     ]
    },
    {
     "name": "stderr",
     "output_type": "stream",
     "text": [
      "Epoch 9/15 [Train]: 100%|██████████| 1045/1045 [02:59<00:00,  5.81it/s, acc=0.998, loss=0.00583]\n",
      "Epoch 9/15 [Val]: 100%|██████████| 262/262 [00:54<00:00,  4.82it/s, acc=1, loss=9.07e-5] \n"
     ]
    },
    {
     "name": "stdout",
     "output_type": "stream",
     "text": [
      "Epoch 9/15 - Train Loss: 0.0058, Train Acc: 0.9982, Val Loss: 0.0001, Val Acc: 1.0000\n"
     ]
    },
    {
     "name": "stderr",
     "output_type": "stream",
     "text": [
      "Epoch 10/15 [Train]: 100%|██████████| 1045/1045 [04:52<00:00,  3.57it/s, acc=0.999, loss=0.0032] \n",
      "Epoch 10/15 [Val]: 100%|██████████| 262/262 [00:53<00:00,  4.92it/s, acc=1, loss=0.000472]\n"
     ]
    },
    {
     "name": "stdout",
     "output_type": "stream",
     "text": [
      "Epoch 10/15 - Train Loss: 0.0032, Train Acc: 0.9991, Val Loss: 0.0005, Val Acc: 0.9999\n"
     ]
    },
    {
     "name": "stderr",
     "output_type": "stream",
     "text": [
      "Epoch 11/15 [Train]: 100%|██████████| 1045/1045 [03:52<00:00,  4.50it/s, acc=0.999, loss=0.00317]\n",
      "Epoch 11/15 [Val]: 100%|██████████| 262/262 [00:33<00:00,  7.94it/s, acc=1, loss=5.03e-5]\n"
     ]
    },
    {
     "name": "stdout",
     "output_type": "stream",
     "text": [
      "Epoch 11/15 - Train Loss: 0.0032, Train Acc: 0.9991, Val Loss: 0.0001, Val Acc: 1.0000\n"
     ]
    },
    {
     "name": "stderr",
     "output_type": "stream",
     "text": [
      "Epoch 12/15 [Train]: 100%|██████████| 1045/1045 [02:54<00:00,  6.00it/s, acc=0.999, loss=0.00418]\n",
      "Epoch 12/15 [Val]: 100%|██████████| 262/262 [00:33<00:00,  7.87it/s, acc=1, loss=0.000162]\n"
     ]
    },
    {
     "name": "stdout",
     "output_type": "stream",
     "text": [
      "Epoch 12/15 - Train Loss: 0.0042, Train Acc: 0.9987, Val Loss: 0.0002, Val Acc: 1.0000\n"
     ]
    },
    {
     "name": "stderr",
     "output_type": "stream",
     "text": [
      "Epoch 13/15 [Train]: 100%|██████████| 1045/1045 [02:54<00:00,  6.00it/s, acc=0.999, loss=0.00417]\n",
      "Epoch 13/15 [Val]: 100%|██████████| 262/262 [00:33<00:00,  7.87it/s, acc=1, loss=3.28e-5]\n"
     ]
    },
    {
     "name": "stdout",
     "output_type": "stream",
     "text": [
      "Epoch 13/15 - Train Loss: 0.0042, Train Acc: 0.9987, Val Loss: 0.0000, Val Acc: 1.0000\n"
     ]
    },
    {
     "name": "stderr",
     "output_type": "stream",
     "text": [
      "Epoch 14/15 [Train]: 100%|██████████| 1045/1045 [02:53<00:00,  6.01it/s, acc=0.999, loss=0.00398]\n",
      "Epoch 14/15 [Val]: 100%|██████████| 262/262 [00:33<00:00,  7.85it/s, acc=1, loss=0.000214]\n"
     ]
    },
    {
     "name": "stdout",
     "output_type": "stream",
     "text": [
      "Epoch 14/15 - Train Loss: 0.0040, Train Acc: 0.9987, Val Loss: 0.0002, Val Acc: 0.9999\n"
     ]
    },
    {
     "name": "stderr",
     "output_type": "stream",
     "text": [
      "Epoch 15/15 [Train]: 100%|██████████| 1045/1045 [02:54<00:00,  5.98it/s, acc=0.999, loss=0.00294]\n",
      "Epoch 15/15 [Val]: 100%|██████████| 262/262 [00:33<00:00,  7.93it/s, acc=1, loss=2.06e-5]\n"
     ]
    },
    {
     "name": "stdout",
     "output_type": "stream",
     "text": [
      "Epoch 15/15 - Train Loss: 0.0029, Train Acc: 0.9992, Val Loss: 0.0000, Val Acc: 1.0000\n",
      "Training complete. Model saved at drowsiness_model.pth\n",
      "Training history saved to training_history.png\n"
     ]
    },
    {
     "data": {
      "image/png": "[encoded data removed]",
      "text/plain": [
       "<Figure size 1200x400 with 2 Axes>"
      ]
     },
     "metadata": {},
     "output_type": "display_data"
    }
   ],
   "source": [
    "import os\n",
    "import sys\n",
    "import numpy as np\n",
    "import cv2\n",
    "import torch\n",
    "import torch.nn as nn\n",
    "import torch.optim as optim\n",
    "from torch.utils.data import Dataset, DataLoader\n",
    "from torchvision import transforms, models\n",
    "import matplotlib.pyplot as plt\n",
    "from sklearn.model_selection import train_test_split\n",
    "from tqdm import tqdm\n",
    "import argparse\n",
    "\n",
    "\n",
    "if __name__ == \"__main__\":\n",
    "    \n",
    "    sys_args = [arg for arg in sys.argv if not arg.startswith('--f=')]\n",
    "    sys.argv = sys_args\n",
    "\n",
    "\n",
    "def parse_args():\n",
    "    parser = argparse.ArgumentParser(description='Train a drowsiness detection model')\n",
    "    parser.add_argument('--dataset', type=str, default=None,\n",
    "                        help='Path to the dataset folder containing Drowsy and Non Drowsy subfolders')\n",
    "    parser.add_argument('--output', type=str, default='drowsiness_model.pth',\n",
    "                        help='Path to save the trained model')\n",
    "    parser.add_argument('--batch_size', type=int, default=32, \n",
    "                        help='Batch size for training')\n",
    "    parser.add_argument('--epochs', type=int, default=15,\n",
    "                        help='Number of training epochs')\n",
    "    parser.add_argument('--lr', type=float, default=0.001,\n",
    "                        help='Learning rate')\n",
    "    \n",
    "    \n",
    "    if 'ipykernel_launcher.py' in sys.argv[0]:\n",
    "        return parser.parse_args([])\n",
    "    else:\n",
    "        return parser.parse_args()\n",
    "\n",
    "# Custom Dataset class\n",
    "class DrowsinessDataset(Dataset):\n",
    "    def __init__(self, image_paths, labels, transform=None):\n",
    "        self.image_paths = image_paths\n",
    "        self.labels = labels\n",
    "        self.transform = transform\n",
    "    \n",
    "    def __len__(self):\n",
    "        return len(self.image_paths)\n",
    "    \n",
    "    def __getitem__(self, idx):\n",
    "        image_path = self.image_paths[idx]\n",
    "        try:\n",
    "            image = cv2.imread(image_path)\n",
    "            if image is None:\n",
    "                raise ValueError(f\"Failed to load image: {image_path}\")\n",
    "            image = cv2.cvtColor(image, cv2.COLOR_BGR2RGB)\n",
    "            \n",
    "            if self.transform:\n",
    "                image = self.transform(image)\n",
    "            \n",
    "            label = self.labels[idx]\n",
    "            return image, label\n",
    "        except Exception as e:\n",
    "            print(f\"Error loading image {image_path}: {str(e)}\")\n",
    "           \n",
    "            if self.transform:\n",
    "                placeholder = torch.zeros((3, 224, 224))\n",
    "            else:\n",
    "                placeholder = np.zeros((224, 224, 3), dtype=np.uint8)\n",
    "            return placeholder, self.labels[idx]\n",
    "\n",
    "# Data preprocessing\n",
    "def load_dataset(dataset_path):\n",
    "    if not os.path.exists(dataset_path):\n",
    "        raise FileNotFoundError(f\"Dataset path does not exist: {dataset_path}\")\n",
    "    \n",
    "    drowsy_path = os.path.join(dataset_path, \"Drowsy\")\n",
    "    non_drowsy_path = os.path.join(dataset_path, \"Non Drowsy\")\n",
    "    \n",
    "    if not os.path.exists(drowsy_path):\n",
    "        raise FileNotFoundError(f\"Drowsy directory not found at: {drowsy_path}\")\n",
    "    if not os.path.exists(non_drowsy_path):\n",
    "        raise FileNotFoundError(f\"Non Drowsy directory not found at: {non_drowsy_path}\")\n",
    "    \n",
    "    image_paths = []\n",
    "    labels = []\n",
    "    \n",
    "    print(f\"Loading drowsy images from: {drowsy_path}\")\n",
    "    # Load drowsy images\n",
    "    for img_name in os.listdir(drowsy_path):\n",
    "        if img_name.lower().endswith((\".png\", \".jpg\", \".jpeg\")):\n",
    "            img_path = os.path.join(drowsy_path, img_name)\n",
    "            if os.path.isfile(img_path):\n",
    "                image_paths.append(img_path)\n",
    "                labels.append(1)  # 1 for drowsy\n",
    "    \n",
    "    print(f\"Loading non-drowsy images from: {non_drowsy_path}\")\n",
    "    # Load non-drowsy images\n",
    "    for img_name in os.listdir(non_drowsy_path):\n",
    "        if img_name.lower().endswith((\".png\", \".jpg\", \".jpeg\")):\n",
    "            img_path = os.path.join(non_drowsy_path, img_name)\n",
    "            if os.path.isfile(img_path):\n",
    "                image_paths.append(img_path)\n",
    "                labels.append(0)  # 0 for non-drowsy\n",
    "    \n",
    "    if len(image_paths) == 0:\n",
    "        raise ValueError(\"No valid images found in the dataset directories\")\n",
    "    \n",
    "    return image_paths, labels\n",
    "\n",
    "def create_data_loaders(image_paths, labels, batch_size=32, img_size=224):\n",
    "    # Split the data\n",
    "    train_paths, val_paths, train_labels, val_labels = train_test_split(\n",
    "        image_paths, labels, test_size=0.2, random_state=42, stratify=labels\n",
    "    )\n",
    "    \n",
    "    # Data transformations\n",
    "    train_transform = transforms.Compose([\n",
    "        transforms.ToPILImage(),\n",
    "        transforms.Resize((img_size, img_size)),\n",
    "        transforms.RandomHorizontalFlip(),\n",
    "        transforms.RandomRotation(10),\n",
    "        transforms.ColorJitter(brightness=0.2, contrast=0.2),\n",
    "        transforms.ToTensor(),\n",
    "        transforms.Normalize([0.485, 0.456, 0.406], [0.229, 0.224, 0.225])\n",
    "    ])\n",
    "    \n",
    "    val_transform = transforms.Compose([\n",
    "        transforms.ToPILImage(),\n",
    "        transforms.Resize((img_size, img_size)),\n",
    "        transforms.ToTensor(),\n",
    "        transforms.Normalize([0.485, 0.456, 0.406], [0.229, 0.224, 0.225])\n",
    "    ])\n",
    "    \n",
    "    # Create datasets\n",
    "    train_dataset = DrowsinessDataset(train_paths, train_labels, transform=train_transform)\n",
    "    val_dataset = DrowsinessDataset(val_paths, val_labels, transform=val_transform)\n",
    "    \n",
    "    \n",
    "    num_workers = 0  \n",
    "    train_loader = DataLoader(train_dataset, batch_size=batch_size, shuffle=True, num_workers=num_workers, pin_memory=True)\n",
    "    val_loader = DataLoader(val_dataset, batch_size=batch_size, shuffle=False, num_workers=num_workers, pin_memory=True)\n",
    "    \n",
    "    return train_loader, val_loader\n",
    "\n",
    "# Model definition - Using EfficientNet\n",
    "def create_model():\n",
    "    model = models.efficientnet_b0(pretrained=True)\n",
    "    \n",
    "    # Freeze early layers\n",
    "    for param in list(model.parameters())[:-10]:\n",
    "        param.requires_grad = False\n",
    "    \n",
    "    # Replace classifier\n",
    "    num_features = model.classifier[1].in_features\n",
    "    model.classifier = nn.Sequential(\n",
    "        nn.Dropout(p=0.3, inplace=True),\n",
    "        nn.Linear(num_features, 2)\n",
    "    )\n",
    "    \n",
    "    return model\n",
    "\n",
    "# Training function\n",
    "def train_model(model, train_loader, val_loader, criterion, optimizer, scheduler, num_epochs, device, model_path):\n",
    "    best_val_acc = 0.0\n",
    "    history = {'train_loss': [], 'train_acc': [], 'val_loss': [], 'val_acc': []}\n",
    "    \n",
    "    for epoch in range(num_epochs):\n",
    "        # Training phase\n",
    "        model.train()\n",
    "        train_loss = 0.0\n",
    "        train_correct = 0\n",
    "        train_total = 0\n",
    "        \n",
    "        train_bar = tqdm(train_loader, desc=f\"Epoch {epoch+1}/{num_epochs} [Train]\")\n",
    "        for inputs, labels in train_bar:\n",
    "            inputs, labels = inputs.to(device), labels.to(device)\n",
    "            \n",
    "            optimizer.zero_grad()\n",
    "            outputs = model(inputs)\n",
    "            loss = criterion(outputs, labels)\n",
    "            loss.backward()\n",
    "            optimizer.step()\n",
    "            \n",
    "            train_loss += loss.item() * inputs.size(0)\n",
    "            _, predicted = torch.max(outputs, 1)\n",
    "            train_total += labels.size(0)\n",
    "            train_correct += (predicted == labels).sum().item()\n",
    "            train_bar.set_postfix(loss=train_loss/train_total, acc=train_correct/train_total)\n",
    "        \n",
    "        epoch_train_loss = train_loss / len(train_loader.dataset)\n",
    "        epoch_train_acc = train_correct / train_total\n",
    "        history['train_loss'].append(epoch_train_loss)\n",
    "        history['train_acc'].append(epoch_train_acc)\n",
    "        \n",
    "        # Validation phase\n",
    "        model.eval()\n",
    "        val_loss = 0.0\n",
    "        val_correct = 0\n",
    "        val_total = 0\n",
    "        \n",
    "        with torch.no_grad():\n",
    "            val_bar = tqdm(val_loader, desc=f\"Epoch {epoch+1}/{num_epochs} [Val]\")\n",
    "            for inputs, labels in val_bar:\n",
    "                inputs, labels = inputs.to(device), labels.to(device)\n",
    "                \n",
    "                outputs = model(inputs)\n",
    "                loss = criterion(outputs, labels)\n",
    "                \n",
    "                val_loss += loss.item() * inputs.size(0)\n",
    "                _, predicted = torch.max(outputs, 1)\n",
    "                val_total += labels.size(0)\n",
    "                val_correct += (predicted == labels).sum().item()\n",
    "                val_bar.set_postfix(loss=val_loss/val_total, acc=val_correct/val_total)\n",
    "        \n",
    "        epoch_val_loss = val_loss / len(val_loader.dataset)\n",
    "        epoch_val_acc = val_correct / val_total\n",
    "        history['val_loss'].append(epoch_val_loss)\n",
    "        history['val_acc'].append(epoch_val_acc)\n",
    "        \n",
    "        scheduler.step(epoch_val_loss)\n",
    "        \n",
    "        print(f\"Epoch {epoch+1}/{num_epochs} - \"\n",
    "              f\"Train Loss: {epoch_train_loss:.4f}, Train Acc: {epoch_train_acc:.4f}, \"\n",
    "              f\"Val Loss: {epoch_val_loss:.4f}, Val Acc: {epoch_val_acc:.4f}\")\n",
    "        \n",
    "        # Save the best model\n",
    "        if epoch_val_acc > best_val_acc:\n",
    "            best_val_acc = epoch_val_acc\n",
    "            torch.save({\n",
    "                'epoch': epoch,\n",
    "                'model_state_dict': model.state_dict(),\n",
    "                'optimizer_state_dict': optimizer.state_dict(),\n",
    "                'val_acc': best_val_acc,\n",
    "                'model_architecture': 'efficientnet_b0',\n",
    "            }, model_path)\n",
    "            print(f\"Model saved with validation accuracy: {best_val_acc:.4f}\")\n",
    "    \n",
    "    return model, history\n",
    "\n",
    "# Main function\n",
    "def main():\n",
    "    # Parse arguments\n",
    "    args = parse_args()\n",
    "    \n",
    "\n",
    "    dataset_path = args.dataset\n",
    "    if dataset_path is None:\n",
    "        dataset_path = \"Driver Drowsiness Dataset (DDD)\"\n",
    "\n",
    "    \n",
    "    # Constants\n",
    "    BATCH_SIZE = args.batch_size\n",
    "    NUM_EPOCHS = args.epochs\n",
    "    LEARNING_RATE = args.lr\n",
    "    IMAGE_SIZE = 224\n",
    "    DEVICE = torch.device(\"cuda\" if torch.cuda.is_available() else \"cpu\")\n",
    "    MODEL_PATH = args.output\n",
    "    \n",
    "    print(f\"Using device: {DEVICE}\")\n",
    "    print(f\"Dataset path: {dataset_path}\")\n",
    "    print(f\"Model will be saved to: {MODEL_PATH}\")\n",
    "    \n",
    "    try:\n",
    "        print(\"Loading dataset...\")\n",
    "        image_paths, labels = load_dataset(dataset_path)\n",
    "        drowsy_count = labels.count(1)\n",
    "        non_drowsy_count = labels.count(0)\n",
    "        print(f\"Total images: {len(image_paths)}, Drowsy: {drowsy_count}, Non-Drowsy: {non_drowsy_count}\")\n",
    "        \n",
    "        print(\"Creating data loaders...\")\n",
    "        train_loader, val_loader = create_data_loaders(image_paths, labels, BATCH_SIZE, IMAGE_SIZE)\n",
    "        \n",
    "        print(\"Creating model...\")\n",
    "        model = create_model().to(DEVICE)\n",
    "        \n",
    "        criterion = nn.CrossEntropyLoss()\n",
    "        optimizer = optim.AdamW(model.parameters(), lr=LEARNING_RATE, weight_decay=1e-4)\n",
    "        scheduler = optim.lr_scheduler.ReduceLROnPlateau(optimizer, mode='min', factor=0.1, patience=3, verbose=True)\n",
    "        \n",
    "        print(\"Starting training...\")\n",
    "        model, history = train_model(model, train_loader, val_loader, criterion, optimizer, \n",
    "                                    scheduler, NUM_EPOCHS, DEVICE, MODEL_PATH)\n",
    "        \n",
    "        print(f\"Training complete. Model saved at {MODEL_PATH}\")\n",
    "        \n",
    "        # Plot training history\n",
    "        plt.figure(figsize=(12, 4))\n",
    "        plt.subplot(1, 2, 1)\n",
    "        plt.plot(history['train_loss'], label='Train Loss')\n",
    "        plt.plot(history['val_loss'], label='Validation Loss')\n",
    "        plt.xlabel('Epoch')\n",
    "        plt.ylabel('Loss')\n",
    "        plt.legend()\n",
    "        \n",
    "        plt.subplot(1, 2, 2)\n",
    "        plt.plot(history['train_acc'], label='Train Accuracy')\n",
    "        plt.plot(history['val_acc'], label='Validation Accuracy')\n",
    "        plt.xlabel('Epoch')\n",
    "        plt.ylabel('Accuracy')\n",
    "        plt.legend()\n",
    "        \n",
    "        plt.tight_layout()\n",
    "        plt.savefig('training_history.png')\n",
    "        print(\"Training history saved to training_history.png\")\n",
    "        \n",
    "    except Exception as e:\n",
    "        print(f\"Error during training: {str(e)}\")\n",
    "    \n",
    "    \n",
    "\n",
    "if __name__ == \"__main__\":\n",
    "    main()\n"
   ]
  }
 ],
 "metadata": {
  "kernelspec": {
   "display_name": "gpuenv2",
   "language": "python",
   "name": "python3"
  },
  "language_info": {
   "codemirror_mode": {
    "name": "ipython",
    "version": 3
   },
   "file_extension": ".py",
   "mimetype": "text/x-python",
   "name": "python",
   "nbconvert_exporter": "python",
   "pygments_lexer": "ipython3",
   "version": "3.10.14"
  }
 },
 "nbformat": 4,
 "nbformat_minor": 2
}
